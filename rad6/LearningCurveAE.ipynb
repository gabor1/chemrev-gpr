{
 "cells": [
  {
   "cell_type": "code",
   "execution_count": 25,
   "metadata": {},
   "outputs": [],
   "source": [
    "import numpy as np\n",
    "import matplotlib.pyplot as plt\n",
    "from AE import tsize\n",
    "from AE import AE_dft_int_fps_int, AE_dft_ext_fps_int"
   ]
  },
  {
   "cell_type": "code",
   "execution_count": 26,
   "metadata": {},
   "outputs": [],
   "source": [
    "c_dft_int_fps_int = np.polyfit(tsize, np.log10(AE_dft_int_fps_int), 1)\n",
    "c_dft_ext_fps_int = np.polyfit(tsize, np.log10(AE_dft_ext_fps_int), 1)\n",
    "\n",
    "f_dft_int_fps_int = c_dft_int_fps_int[0]*np.asarray(tsize) + c_dft_int_fps_int[1]\n",
    "f_dft_ext_fps_int = c_dft_ext_fps_int[0]*np.asarray(tsize) + c_dft_ext_fps_int[1]"
   ]
  },
  {
   "cell_type": "code",
   "execution_count": 27,
   "metadata": {},
   "outputs": [
    {
     "name": "stdout",
     "output_type": "stream",
     "text": [
      "K_int: [-0.64970172  1.39011808]\n",
      "K_ext: [-0.66609447  1.37242815]\n",
      "Gray line: [-0.65789809  1.38127311]\n"
     ]
    }
   ],
   "source": [
    "# linear lines\n",
    "print(f'K_int: {c_dft_int_fps_int}')\n",
    "print(f'K_ext: {c_dft_ext_fps_int}')\n",
    "print(f'Gray line: {np.mean((c_dft_int_fps_int, c_dft_ext_fps_int), axis=0)}')"
   ]
  },
  {
   "cell_type": "code",
   "execution_count": 31,
   "metadata": {},
   "outputs": [
    {
     "data": {
      "text/plain": [
       "([<matplotlib.axis.YTick at 0x7fea4e4c8450>,\n",
       "  <matplotlib.axis.YTick at 0x7fea4e4ce990>,\n",
       "  <matplotlib.axis.YTick at 0x7fea4e4e6d50>,\n",
       "  <matplotlib.axis.YTick at 0x7fea4e47e910>,\n",
       "  <matplotlib.axis.YTick at 0x7fea4e48f350>,\n",
       "  <matplotlib.axis.YTick at 0x7fea4e48f890>,\n",
       "  <matplotlib.axis.YTick at 0x7fea4e48f610>,\n",
       "  <matplotlib.axis.YTick at 0x7fea4e4961d0>,\n",
       "  <matplotlib.axis.YTick at 0x7fea4e496390>,\n",
       "  <matplotlib.axis.YTick at 0x7fea4e496d50>,\n",
       "  <matplotlib.axis.YTick at 0x7fea4e49e190>,\n",
       "  <matplotlib.axis.YTick at 0x7fea4e49e350>,\n",
       "  <matplotlib.axis.YTick at 0x7fea4e496350>,\n",
       "  <matplotlib.axis.YTick at 0x7fea4e4851d0>,\n",
       "  <matplotlib.axis.YTick at 0x7fea4e49e790>,\n",
       "  <matplotlib.axis.YTick at 0x7fea4e49ec50>,\n",
       "  <matplotlib.axis.YTick at 0x7fea4e4a6450>,\n",
       "  <matplotlib.axis.YTick at 0x7fea4e4a6390>,\n",
       "  <matplotlib.axis.YTick at 0x7fea4e4a6510>],\n",
       " [Text(0, -1.0, '0.1'),\n",
       "  Text(0, -0.6989700043360187, ''),\n",
       "  Text(0, -0.5228787452803376, ''),\n",
       "  Text(0, -0.3979400086720376, ''),\n",
       "  Text(0, -0.3010299956639812, ''),\n",
       "  Text(0, -0.22184874961635637, ''),\n",
       "  Text(0, -0.1549019599857432, ''),\n",
       "  Text(0, -0.09691001300805639, ''),\n",
       "  Text(0, -0.045757490560675115, ''),\n",
       "  Text(0, 0.0, '1.0'),\n",
       "  Text(0, 0.3010299956639812, ''),\n",
       "  Text(0, 0.47712125471966244, ''),\n",
       "  Text(0, 0.6020599913279624, ''),\n",
       "  Text(0, 0.6989700043360189, ''),\n",
       "  Text(0, 0.7781512503836436, ''),\n",
       "  Text(0, 0.8450980400142568, ''),\n",
       "  Text(0, 0.9030899869919435, ''),\n",
       "  Text(0, 0.9542425094393249, ''),\n",
       "  Text(0, 1.0, '10.0')])"
      ]
     },
     "execution_count": 31,
     "metadata": {},
     "output_type": "execute_result"
    },
    {
     "data": {
      "image/png": "[encoded data removed]",
      "text/plain": [
       "<Figure size 288x288 with 1 Axes>"
      ]
     },
     "metadata": {
      "needs_background": "light"
     },
     "output_type": "display_data"
    }
   ],
   "source": [
    "# Data for the gray line \n",
    "c_plot = np.array([-0.65789809,  1.38127311])\n",
    "s_plot= np.log10([400, 12000])\n",
    "f_plot = c_plot[0]*s_plot + c_plot[1]\n",
    "\n",
    "# Figure style\n",
    "fig = plt.figure(figsize=(4, 4))\n",
    "plt.rcParams.update({'font.size': 11})\n",
    "plt.rcParams.update({'figure.autolayout': True})\n",
    "plt.rcParams['font.family'] = 'serif'\n",
    "ms = 7\n",
    "\n",
    "# Plot\n",
    "ax = fig.add_subplot(111)\n",
    "\n",
    "kcalpmol = 23.060541945329334\n",
    "\n",
    "# Gray line\n",
    "#ax.plot(s_plot, f_plot, ls='-', c='gray', lw=0.75)\n",
    "\n",
    "# Kint with FPS int\n",
    "#ax.plot(tsize, f_dft_int_fps_int, ls='--', c='crimson')\n",
    "#ax.plot(tsize, np.log10(AE_dft_int_fps_int), 'o', color='crimson', label=r'K$_\\mathrm{int}$@DFT', ms=ms)\n",
    "\n",
    "# Kext with FPS ext\n",
    "ax.plot(tsize, np.log10(kcalpmol)+f_dft_ext_fps_int, ls='--', c='tab:green')\n",
    "ax.plot(tsize, np.log10(kcalpmol*np.array(AE_dft_ext_fps_int)), '.', color='tab:green', label=r'K$_\\mathrm{ext}$@DFT', ms=ms)\n",
    "\n",
    "# Labels\n",
    "ax.set_xlabel(r'$n_\\mathrm{train}$')\n",
    "ax.set_ylabel(r'MAE/(kcal/mol)')\n",
    "ax.set_ylim(np.log10(0.1), np.log10(10))\n",
    "#ax.set_title('FPS int', fontsize=12)\n",
    "\n",
    "#ax.text(np.log10(750), np.log10(0.37), '$K_\\mathrm{int}$')\n",
    "#ax.text(np.log10(2000), np.log10(0.1), '$K_\\mathrm{ext}$')\n",
    "\n",
    "ax.plot(np.log10([500,9500]), [np.log10(0.593), np.log10(0.593)], \"k--\")\n",
    "\n",
    "ax.text(np.log10(500), np.log10(0.7), 'kT @ 298 K')\n",
    "\n",
    "# Set the correct ticks in log style \n",
    "plt.xticks(\n",
    "    [2.69897,  3.,  np.log10(2000), np.log10(2000), np.log10(3000), np.log10(4000), np.log10(5000), np.log10(6000), np.log10(7000), np.log10(8000), np.log10(9000), 4.0], \n",
    "    ['',  '1,000',  '', '', '', '', '', '', '', '', '', '10,000']\n",
    ")\n",
    "plt.yticks([\n",
    "    np.log10(0.1),\n",
    "    np.log10(0.2),\n",
    "    np.log10(0.3),\n",
    "    np.log10(0.4),\n",
    "    np.log10(0.5),\n",
    "    np.log10(0.6),\n",
    "    np.log10(0.7),\n",
    "    np.log10(0.8),\n",
    "    np.log10(0.9),\n",
    "    np.log10(1),\n",
    "    np.log10(2),\n",
    "    np.log10(3),\n",
    "    np.log10(4),\n",
    "    np.log10(5),\n",
    "    np.log10(6),\n",
    "    np.log10(7),\n",
    "    np.log10(8),\n",
    "    np.log10(9),\n",
    "    np.log10(10),\n",
    " ], [\n",
    "    '0.1', '', '','','','','','','',\n",
    "     '1.0','','','','','','','','',\n",
    "    '10.0']\n",
    ")"
   ]
  },
  {
   "cell_type": "code",
   "execution_count": 32,
   "metadata": {},
   "outputs": [],
   "source": [
    "fig.savefig('rad6.pdf')"
   ]
  },
  {
   "cell_type": "code",
   "execution_count": null,
   "metadata": {},
   "outputs": [],
   "source": []
  }
 ],
 "metadata": {
  "kernelspec": {
   "display_name": "Python 3",
   "language": "python",
   "name": "python3"
  },
  "language_info": {
   "codemirror_mode": {
    "name": "ipython",
    "version": 3
   },
   "file_extension": ".py",
   "mimetype": "text/x-python",
   "name": "python",
   "nbconvert_exporter": "python",
   "pygments_lexer": "ipython3",
   "version": "3.7.9"
  }
 },
 "nbformat": 4,
 "nbformat_minor": 4
}
