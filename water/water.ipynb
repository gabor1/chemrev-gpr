{
 "cells": [
  {
   "cell_type": "code",
   "execution_count": null,
   "metadata": {},
   "outputs": [],
   "source": [
    "import rascal\n",
    "from rascal.representations import SphericalInvariants as SOAP\n",
    "from rascal.representations import SphericalCovariants as lSOAP\n",
    "from rascal.neighbourlist.structure_manager import (\n",
    "        mask_center_atoms_by_species, mask_center_atoms_by_id)\n",
    "import ase.io as ase_io\n",
    "import ase\n",
    "import numpy as np\n",
    "import matplotlib.pyplot as plt\n",
    "import matplotlib as mpl\n",
    "from copy import deepcopy\n",
    "\n",
    "def rasterize(cf):\n",
    "    for c in cf.collections:\n",
    "        c.set_rasterized(True)\n",
    "    return cf"
   ]
  },
  {
   "cell_type": "markdown",
   "metadata": {},
   "source": [
    "# Loads structures and computes features"
   ]
  },
  {
   "cell_type": "markdown",
   "metadata": {},
   "source": [
    "## methane"
   ]
  },
  {
   "cell_type": "code",
   "execution_count": null,
   "metadata": {},
   "outputs": [],
   "source": [
    "lh4 = ase_io.read(\"./manif-plus.xyz\", index=\":\")\n",
    "y = np.loadtxt('./manif-plus.nmr')[:,0]\n",
    "y-=y.mean()\n",
    "for h4 in lh4: \n",
    "    h4.cell =[120, 120, 120]\n",
    "    h4.positions += np.asarray((60,60,60))\n",
    "    h4.pbc=True\n",
    "    mask_center_atoms_by_species(h4,['C'])       \n",
    "    h4.wrap()\n",
    "ntot = len(y)"
   ]
  },
  {
   "cell_type": "code",
   "execution_count": null,
   "metadata": {},
   "outputs": [],
   "source": [
    "HYPERS = {\n",
    "    'soap_type': 'PowerSpectrum',\n",
    "    'interaction_cutoff': 4.0,\n",
    "    'max_radial': 2,\n",
    "    'max_angular': 6,\n",
    "    'gaussian_sigma_constant': 0.5,\n",
    "    'gaussian_sigma_type': 'Constant',\n",
    "    'cutoff_smooth_width': 0.5,\n",
    "    'radial_basis': 'GTO',\n",
    "    'inversion_symmetry': True,\n",
    "    'normalize' : True\n",
    "}\n",
    "soap2 = SOAP(**HYPERS)\n",
    "\n",
    "X = soap2.transform(lh4).get_features(soap2)"
   ]
  },
  {
   "cell_type": "markdown",
   "metadata": {},
   "source": [
    "## water"
   ]
  },
  {
   "cell_type": "markdown",
   "metadata": {},
   "source": [
    "use asymmetric stretch so we get a trivial symmetry"
   ]
  },
  {
   "cell_type": "code",
   "execution_count": null,
   "metadata": {},
   "outputs": [],
   "source": [
    "lwat = ase_io.read(\"./WaterMonomer/watergrid_60_HOH__0.7_rOH_1.8_coarse_BLYP_AVQZ.xyz\", index=\":\")\n",
    "y = []\n",
    "rt = []\n",
    "lw = []\n",
    "for w in lwat:     \n",
    "    # if sum is not equal to the equilibrium distance skip (only asymmetric stretch included)\n",
    "    if abs(w.info['OH1']+ w.info['OH2']-0.95*2)>1e-6 or w.info['HOH']> 160:\n",
    "        continue\n",
    "    rt.append([w.info['OH1'], w.info['OH2'], w.info['HOH'] ])\n",
    "    y.append(w.info['energy'])    \n",
    "    w.cell =[120, 120, 120]\n",
    "    w.positions += np.asarray((60,60,60))\n",
    "    w.pbc=True\n",
    "    mask_center_atoms_by_species(w,['O'])       \n",
    "    w.wrap()\n",
    "    lw.append(w.copy())\n",
    "    \n",
    "for i in range(4,-1,-1):\n",
    "    for j in range(11):\n",
    "        w = lw[i*11+j].copy()\n",
    "        w.positions[[2,1]] = w.positions[[1,2]]\n",
    "        lw.append(w)\n",
    "        rt.append( [ rt[i*11+j][1], rt[i*11+j][0], rt[i*11+j][2]] )\n",
    "        y.append( y[i*11+j])        \n",
    "y = np.asarray(y)\n",
    "y -= y.mean()\n",
    "rt = np.asarray(rt)\n",
    "ntot = len(y)\n",
    "szgrid = (11,11)"
   ]
  },
  {
   "cell_type": "markdown",
   "metadata": {},
   "source": [
    "actually, let's make the molecules on our own..."
   ]
  },
  {
   "cell_type": "code",
   "execution_count": null,
   "metadata": {},
   "outputs": [],
   "source": [
    "fw = []\n",
    "for nu1 in np.linspace(-0.5,0.5,11):  \n",
    "    for om in np.linspace(60,160,11)*np.pi/180:      \n",
    "        nw = ase.Atoms(\"OH2\", \n",
    "                        positions=[[0,0,0], \n",
    "                                   (0.95+nu1/2)*np.asarray([-np.sin(om/2), np.cos(om/2),0]),\n",
    "                                  (0.95-nu1/2)*np.asarray([np.sin(om/2), np.cos(om/2),0])],\n",
    "                        cell=[100,100,100])\n",
    "        nw.info['OH1'] = np.sqrt((nw.positions[1]**2).sum())\n",
    "        nw.info['OH2'] = np.sqrt((nw.positions[2]**2).sum())\n",
    "        nw.info['HOH'] = np.round(np.arccos((nw.positions[1]*nw.positions[2]).sum()/(nw.info['OH1']*nw.info['OH2']))*180/np.pi)\n",
    "        nw.positions += 50\n",
    "        mask_center_atoms_by_species(nw,['O'])       \n",
    "        fw.append(nw)\n",
    "ase_io.write(\"WaterMonomer/chemrev_nuprime-theta-grid.xyz\", fw)\n",
    "frw = fw"
   ]
  },
  {
   "cell_type": "markdown",
   "metadata": {},
   "source": [
    "... these are recomputed with PSwater including the dipole, by i-PI. then read back in"
   ]
  },
  {
   "cell_type": "code",
   "execution_count": null,
   "metadata": {},
   "outputs": [],
   "source": [
    "fw = ase_io.read(\"./WaterMonomer/chemrev_nuprime-theta-grid_computed.xyz\", index=\":\")\n",
    "nrg = np.loadtxt(\"./WaterMonomer/pswater-ipi.out\")[:,0]\n",
    "for f, n in zip(fw, nrg[1:]):\n",
    "    f.info['energy'] = n\n",
    "y = []\n",
    "yl = []\n",
    "rt = []\n",
    "lw = []\n",
    "for w in fw:\n",
    "    rt.append([w.info['OH1'], w.info['OH2'], w.info['HOH'] ])\n",
    "    y.append(w.info['energy']*27.211386)\n",
    "    yl.append(w.info['dipole']*2.5417465)\n",
    "    mask_center_atoms_by_species(w,['O'])\n",
    "    lw.append(w)\n",
    "rt = np.asarray(rt)\n",
    "y = np.asarray(y)\n",
    "yl = np.asarray(yl)"
   ]
  },
  {
   "cell_type": "code",
   "execution_count": null,
   "metadata": {},
   "outputs": [],
   "source": [
    "HYPERS = {\n",
    "    'soap_type': 'PowerSpectrum',\n",
    "    'interaction_cutoff': 2.0,\n",
    "    'max_radial': 8,\n",
    "    'max_angular': 6,\n",
    "    'gaussian_sigma_constant': 0.5,\n",
    "    'gaussian_sigma_type': 'Constant',\n",
    "    'cutoff_smooth_width': 0.5,\n",
    "    'radial_basis': 'GTO',\n",
    "    'inversion_symmetry': True,\n",
    "    'normalize' : True\n",
    "}\n",
    "soap2 = SOAP(**HYPERS)\n",
    "\n",
    "X = soap2.transform(fw).get_features(soap2)"
   ]
  },
  {
   "cell_type": "markdown",
   "metadata": {},
   "source": [
    "# Builds kernel"
   ]
  },
  {
   "cell_type": "markdown",
   "metadata": {},
   "source": [
    "In line with the GAP mores, we just do a square kernel"
   ]
  },
  {
   "cell_type": "code",
   "execution_count": null,
   "metadata": {},
   "outputs": [],
   "source": [
    "kernel = (X@X.T)**1"
   ]
  },
  {
   "cell_type": "code",
   "execution_count": null,
   "metadata": {},
   "outputs": [],
   "source": [
    "nrm = (X**2).sum(axis=1)\n",
    "gamma = 1.0/(2*1e-1**2)\n",
    "kgauss = np.exp(-(np.add.outer(nrm,nrm) - 2*X@X.T)*gamma)\n",
    "kgopt = np.exp(-(np.add.outer(nrm,nrm) - 2*X@X.T)*0.5/2**2)\n",
    "#marg = kgauss.sum(axis=1);\n",
    "#kgauss += marg.sum()/len(marg)**2 - np.add.outer(marg,marg)/len(marg)"
   ]
  },
  {
   "cell_type": "code",
   "execution_count": null,
   "metadata": {},
   "outputs": [],
   "source": [
    "plt.matshow(kgauss)"
   ]
  },
  {
   "cell_type": "markdown",
   "metadata": {},
   "source": [
    "# Train-test split, and regress"
   ]
  },
  {
   "cell_type": "code",
   "execution_count": null,
   "metadata": {},
   "outputs": [],
   "source": [
    "itrain = np.arange(ntot)[::3]\n",
    "ntrain = 12\n",
    "np.random.seed(111)\n",
    "np.random.shuffle(itrain)\n",
    "itrain = itrain[:ntrain] # np.concatenate( (itrain[:ntrain] , [0,4,8,36,40,44,72,76,80]))\n",
    "itest = np.setdiff1d(np.arange(ntot), itrain)"
   ]
  },
  {
   "cell_type": "code",
   "execution_count": null,
   "metadata": {},
   "outputs": [],
   "source": [
    "#plt.plot(lx[itrain], ly[itrain], 'k*')\n",
    "#plt.plot(lx[isparse], ly[isparse], 'r+')"
   ]
  },
  {
   "cell_type": "code",
   "execution_count": null,
   "metadata": {},
   "outputs": [],
   "source": [
    "#itrain = np.asarray([0,4,8,36,40,44,72,76,80])"
   ]
  },
  {
   "cell_type": "code",
   "execution_count": null,
   "metadata": {},
   "outputs": [],
   "source": [
    "w1 = np.linalg.lstsq( kernel[itrain][:,itrain]    + 1e-9*np.eye(len(itrain)), y[itrain], rcond=None)[0]\n",
    "w2 = np.linalg.lstsq( kernel[itrain][:,itrain]**2 + 1e-9*np.eye(len(itrain)), y[itrain], rcond=None)[0]\n",
    "wg = np.linalg.lstsq( kgauss[itrain][:,itrain]    + 1e-9*np.eye(len(itrain)), y[itrain], rcond=None)[0]\n",
    "wgopt = np.linalg.lstsq( kgopt[itrain][:,itrain]  + 1e-9*np.eye(len(itrain)), y[itrain], rcond=None)[0]"
   ]
  },
  {
   "cell_type": "code",
   "execution_count": null,
   "metadata": {},
   "outputs": [],
   "source": [
    "ypred_z1 = kernel[:,itrain] @ w1\n",
    "ypred_z2 = (kernel[:,itrain]**2) @ w2\n",
    "ypred_g = (kgauss[:,itrain]) @ wg\n",
    "ypred_gopt = (kgopt[:,itrain]) @ wgopt"
   ]
  },
  {
   "cell_type": "code",
   "execution_count": null,
   "metadata": {},
   "outputs": [],
   "source": [
    "np.sqrt(np.mean((ypred_gopt - y)[itest]**2))"
   ]
  },
  {
   "cell_type": "code",
   "execution_count": null,
   "metadata": {},
   "outputs": [],
   "source": [
    "(ypred_g-y)[itrain]"
   ]
  },
  {
   "cell_type": "code",
   "execution_count": null,
   "metadata": {},
   "outputs": [],
   "source": [
    "plt.plot(ypred_z1[itrain],y[itrain], 'r.')\n",
    "plt.plot(ypred_z1[itest], y[itest], 'b.')\n",
    "plt.plot(ypred_z2[itest], y[itest], 'k.')\n",
    "plt.plot(ypred_g[itest], y[itest], 'g.')\n",
    "plt.plot(ypred_g[itrain], y[itrain], 'g-')"
   ]
  },
  {
   "cell_type": "markdown",
   "metadata": {},
   "source": [
    "# Regularization"
   ]
  },
  {
   "cell_type": "code",
   "execution_count": null,
   "metadata": {},
   "outputs": [],
   "source": [
    "reglist = np.geomspace(1e-8, 100, 40)"
   ]
  },
  {
   "cell_type": "code",
   "execution_count": null,
   "metadata": {},
   "outputs": [],
   "source": [
    "err = []\n",
    "for r in reglist:\n",
    "    w1 = np.linalg.lstsq( kernel[itrain][:,itrain]    + r**2*np.eye(len(itrain)), y[itrain], rcond=None)[0]\n",
    "    w2 = np.linalg.lstsq( kernel[itrain][:,itrain]**2 + r**2*np.eye(len(itrain)), y[itrain], rcond=None)[0]\n",
    "    wg = np.linalg.lstsq( kgauss[itrain][:,itrain]    + r**2*np.eye(len(itrain)), y[itrain], rcond=None)[0]\n",
    "    yp_z1 = kernel[:,itrain] @ w1\n",
    "    yp_z2 = (kernel[:,itrain]**2) @ w2\n",
    "    yp_g = (kgauss[:,itrain]) @ wg\n",
    "    err. append([r, np.sqrt(np.mean((yp_z1 - y)[itest]**2)),\n",
    "                np.sqrt(np.mean((yp_z2 - y)[itest]**2)),\n",
    "                np.sqrt(np.mean((yp_g - y)[itest]**2))])\n",
    "err = np.asarray(err)"
   ]
  },
  {
   "cell_type": "code",
   "execution_count": null,
   "metadata": {},
   "outputs": [],
   "source": [
    "plt.loglog(err[:,0], err[:,1], 'r')\n",
    "plt.loglog(err[:,0], err[:,2], 'b')\n",
    "plt.loglog(err[:,0], err[:,3], 'v')"
   ]
  },
  {
   "cell_type": "code",
   "execution_count": null,
   "metadata": {},
   "outputs": [],
   "source": [
    "wg = np.linalg.lstsq( kgauss[itrain][:,itrain]    + 1e-4*np.eye(len(itrain)), y[itrain], rcond=None)[0]\n",
    "yp_g = (kgauss[:,itrain]) @ wg"
   ]
  },
  {
   "cell_type": "markdown",
   "metadata": {},
   "source": [
    "# Sparse model"
   ]
  },
  {
   "cell_type": "code",
   "execution_count": null,
   "metadata": {},
   "outputs": [],
   "source": [
    "itrain = np.arange(ntot)[::3]\n",
    "ntrain = 12\n",
    "np.random.seed(111)\n",
    "np.random.shuffle(itrain)\n",
    "itrain = itrain[:ntrain] # np.concatenate( (itrain[:ntrain] , [0,4,8,36,40,44,72,76,80]))\n",
    "itest = np.setdiff1d(np.arange(ntot), itrain)"
   ]
  },
  {
   "cell_type": "code",
   "execution_count": null,
   "metadata": {},
   "outputs": [],
   "source": [
    "isparse = np.arange(ntot)[::7]\n",
    "nsparse = 8\n",
    "np.random.shuffle(isparse)\n",
    "isparse = isparse[-nsparse:]"
   ]
  },
  {
   "cell_type": "code",
   "execution_count": null,
   "metadata": {},
   "outputs": [],
   "source": [
    "#plt.plot(lx[itrain], ly[itrain], 'k*')\n",
    "#plt.plot(lx[isparse], ly[isparse], 'r+')"
   ]
  },
  {
   "cell_type": "code",
   "execution_count": null,
   "metadata": {},
   "outputs": [],
   "source": [
    "zeta = 2\n",
    "KNM = (X[itrain]@X[isparse].T)**zeta\n",
    "KMM = (X[isparse]@X[isparse].T)**zeta"
   ]
  },
  {
   "cell_type": "code",
   "execution_count": null,
   "metadata": {},
   "outputs": [],
   "source": [
    "wsparse = np.linalg.lstsq( KNM.T@KNM + 1e-8* KMM, KNM.T@y[itrain], rcond=None)[0]"
   ]
  },
  {
   "cell_type": "code",
   "execution_count": null,
   "metadata": {},
   "outputs": [],
   "source": [
    "ypred_sparse = ((X@X[isparse].T)**zeta) @ wsparse"
   ]
  },
  {
   "cell_type": "code",
   "execution_count": null,
   "metadata": {},
   "outputs": [],
   "source": [
    "print(np.sqrt(np.mean((y - ypred_sparse)[itest]**2)))"
   ]
  },
  {
   "cell_type": "code",
   "execution_count": null,
   "metadata": {},
   "outputs": [],
   "source": [
    "plt.plot(y,ypred_z2,'b.')\n",
    "plt.plot(y,ypred_sparse,'r.')"
   ]
  },
  {
   "cell_type": "markdown",
   "metadata": {},
   "source": [
    "# Make plots"
   ]
  },
  {
   "cell_type": "code",
   "execution_count": null,
   "metadata": {},
   "outputs": [],
   "source": [
    "gx, gy = np.meshgrid(rt[::11,1]-rt[::11,0], rt[:11,2])\n",
    "lx = gx.T.flatten()\n",
    "ly = gy.T.flatten()"
   ]
  },
  {
   "cell_type": "code",
   "execution_count": null,
   "metadata": {},
   "outputs": [],
   "source": [
    "zr= 6\n",
    "fig, ax = plt.subplots(1, 1, constrained_layout=True, figsize = (3.5,2.5))\n",
    "norm = mpl.colors.Normalize(vmin=0, vmax=zr)\n",
    "levs= mpl.ticker.MaxNLocator(48, min_n_ticks=1).tick_values(0, zr)\n",
    "cmap='Blues'\n",
    "ZS = (y).reshape(szgrid).T\n",
    "pcm1 = rasterize(ax.contourf(gx, gy, ZS, cmap=cmap, norm=norm, levels=levs))\n",
    "ax.set_xlabel(r\"$\\nu'/\\AA$\")\n",
    "ax.set_ylabel(r\"$\\omega/\\mathrm{deg.}$\")\n",
    "ax.contour(gx, gy, ZS, colors='k', linewidths=0.5, norm=norm, levels=levs[::5])\n",
    "#ax.set_xlim(0.695,0.905)\n",
    "#ax.set_ylim(-0.105,0.105)\n",
    "#for a, t in zip(ax, [r\"$k=x\\cdot x'$\",r\"$k=(x\\cdot x')^2)$\",r\"$k=exp(-|x-x'|^2/\\theta)$\"]):\n",
    "#    a.set_title(t,position=(0.97,0.9), \n",
    "#                fontsize=9, bbox=dict(facecolor='white', alpha=0.8, pad=1),pad=0,\n",
    "#               ha='right', va='top')\n",
    "fig.colorbar(pcm1, ax=ax, label='$V_{\\mathrm{ref}}$/eV',\n",
    "             norm=norm, cmap=cmap, location='top', ticks=range(-9,11,3))\n",
    "fig.set_constrained_layout_pads(w_pad=1./72., h_pad=1./72.,\n",
    "        hspace=0., wspace=0.)\n",
    "fig.savefig(\"h2o-value.svg\")\n",
    "fig.savefig(\"h2o-value.pdf\")"
   ]
  },
  {
   "cell_type": "code",
   "execution_count": null,
   "metadata": {},
   "outputs": [],
   "source": [
    "zr = max(np.concatenate( (np.abs(y-ypred_z1),np.abs(y-ypred_z2),np.abs(y-ypred_g),np.abs(y-ypred_sparse) ) ) )\n",
    "print(zr)\n",
    "# manually set\n",
    "zr = 1"
   ]
  },
  {
   "cell_type": "code",
   "execution_count": null,
   "metadata": {},
   "outputs": [],
   "source": [
    "plt.plot(y,ypred_z1,'bx')\n",
    "plt.plot(y,ypred_sparse,'r.')"
   ]
  },
  {
   "cell_type": "code",
   "execution_count": null,
   "metadata": {},
   "outputs": [],
   "source": [
    "fig, ax = plt.subplots(3, 1, constrained_layout=True, figsize = (4,5))\n",
    "norm = mpl.colors.Normalize(vmin=-zr, vmax=zr)\n",
    "levs= mpl.ticker.MaxNLocator(100, min_n_ticks=1).tick_values(-zr, zr)\n",
    "cmap='seismic'\n",
    "Z1 = (y - ypred_z1).reshape(szgrid).T\n",
    "pcm1 = rasterize(ax[0].contourf(gx, gy, Z1, cmap=cmap, norm=norm, levels=levs))\n",
    "ax[0].plot(lx[itrain], ly[itrain], 'k*')\n",
    "Z2 = (y - ypred_z2).reshape(szgrid).T\n",
    "pcm = rasterize(ax[1].contourf(gx, gy, Z2, cmap=cmap, norm=norm, levels=levs))\n",
    "ax[1].plot(lx[itrain], ly[itrain], 'k*')\n",
    "ZG = (y - ypred_g).reshape(szgrid).T\n",
    "pcm = rasterize(ax[2].contourf(gx, gy, ZG, cmap=cmap, norm=norm, levels=levs))\n",
    "ax[2].plot(lx[itrain], ly[itrain], 'k*')\n",
    "ax[0].set_xticklabels([])\n",
    "ax[1].set_xticklabels([])\n",
    "ax[2].set_xlabel(r\"$\\nu'/\\AA$\")\n",
    "ax[0].set_ylabel(r\"$\\omega/\\mathrm{deg.}$\")\n",
    "ax[1].set_ylabel(r\"$\\omega/\\mathrm{deg.}$\")\n",
    "ax[2].set_ylabel(r\"$\\omega/\\mathrm{deg.}$\")\n",
    "for a, t in zip(ax, [r\"$k=x\\cdot x'$\",r\"$k=(x\\cdot x')^2)$\",r\"$k=exp(-|x-x'|^2/2\\theta^2)$\"]):\n",
    "    a.set_title(t,position=(0.97,0.9), \n",
    "                fontsize=9, bbox=dict(facecolor='white', alpha=0.8, pad=1),pad=0,\n",
    "               ha='right', va='top')\n",
    "fig.colorbar(pcm1, ax=ax, label='$(V-V_{\\mathrm{ref}})$/eV',  \n",
    "             norm=norm, cmap=cmap, location='top', ticks=np.arange(-zr,zr+0.1,0.5))\n",
    "fig.set_constrained_layout_pads(w_pad=1./72., h_pad=1./72.,\n",
    "        hspace=0., wspace=0.)\n",
    "fig.savefig(\"h2o-gpr.svg\")\n",
    "fig.savefig(\"h2o-gpr.pdf\")"
   ]
  },
  {
   "cell_type": "code",
   "execution_count": null,
   "metadata": {},
   "outputs": [],
   "source": [
    "fig, ax = plt.subplots(1, 1, constrained_layout=True, figsize = (4,3))\n",
    "norm = mpl.colors.Normalize(vmin=-zr, vmax=zr)\n",
    "levs= mpl.ticker.MaxNLocator(100, min_n_ticks=1).tick_values(-zr, zr)\n",
    "cmap='seismic'\n",
    "ZS = (y - ypred_sparse).reshape(szgrid).T\n",
    "pcm1 = rasterize(ax.contourf(gx, gy, ZS, cmap=cmap, norm=norm, levels=levs))\n",
    "ax.plot(lx[itrain], ly[itrain], 'k*')\n",
    "ax.plot(lx[isparse], ly[isparse], 'rx')\n",
    "ax.set_xlabel(r\"$\\nu'/\\AA$\")\n",
    "ax.set_ylabel(r\"$\\omega/\\mathrm{deg.}$\")\n",
    "#for a, t in zip(ax, [r\"$k=x\\cdot x'$\",r\"$k=(x\\cdot x')^2)$\",r\"$k=exp(-|x-x'|^2/\\theta)$\"]):\n",
    "#    a.set_title(t,position=(0.97,0.9), \n",
    "#                fontsize=9, bbox=dict(facecolor='white', alpha=0.8, pad=1),pad=0,\n",
    "#               ha='right', va='top')\n",
    "fig.colorbar(pcm1, ax=ax, label='$(V-V_{\\mathrm{ref}})$/eV', \n",
    "             norm=norm, cmap=cmap, location='top', ticks=np.arange(-2,2,0.5))\n",
    "fig.set_constrained_layout_pads(w_pad=1./72., h_pad=1./72.,\n",
    "        hspace=0., wspace=0.)\n",
    "fig.savefig(\"h2o-gpr-base.svg\")\n",
    "fig.savefig(\"h2o-gpr-base.pdf\")"
   ]
  },
  {
   "cell_type": "code",
   "execution_count": null,
   "metadata": {},
   "outputs": [],
   "source": [
    "print(np.sqrt(np.mean((y - ypred_sparse)[itest]**2)))\n",
    "np.sqrt(np.mean((y - ypred_sparse)[itest]**2)/np.mean((y)[itest]**2))"
   ]
  },
  {
   "cell_type": "code",
   "execution_count": null,
   "metadata": {},
   "outputs": [],
   "source": [
    "fig,ax = plt.subplots(figsize = (4,3))\n",
    "ax.loglog(err[:,0], err[:,1], label=r\"$k=x\\cdot x'$\", c='k')\n",
    "ax.loglog(err[:,0], err[:,2], label=r\"$k=(x\\cdot x')^2$\", c='r')\n",
    "ax.loglog(err[:,0], err[:,3], label=r\"$k=exp(-\\frac{|x-x'|^2}{2\\theta^2})$\", c='b')\n",
    "ax.legend(loc='upper left')\n",
    "ax.set_xlabel(\"$\\lambda$\")\n",
    "ax.set_ylabel(\"RMSE/eV\")\n",
    "ax.set_ylim(8e-3,8)\n",
    "fig.savefig(\"h2o-reg.svg\")\n",
    "fig.savefig(\"h2o-reg.pdf\")"
   ]
  },
  {
   "cell_type": "markdown",
   "metadata": {},
   "source": [
    "# Exponential theta"
   ]
  },
  {
   "cell_type": "code",
   "execution_count": null,
   "metadata": {},
   "outputs": [],
   "source": [
    "reglist = np.geomspace(1e-7, 1, 32)\n",
    "thetalist = np.geomspace(1e-2, 1e2, 32)\n",
    "nrm = (X**2).sum(axis=1)\n",
    "kernel = X @ X.T"
   ]
  },
  {
   "cell_type": "code",
   "execution_count": null,
   "metadata": {},
   "outputs": [],
   "source": [
    "ert = []\n",
    "for r in reglist:\n",
    "    et = []\n",
    "    for t in thetalist:\n",
    "        kt = np.exp(-(np.add.outer(nrm,nrm) - 2*X@X.T)*0.5/t**2)\n",
    "        #marg = kt.sum(axis=1);\n",
    "        #kt += marg.sum()/len(marg)**2 - np.add.outer(marg,marg)/len(marg)\n",
    "        wt = np.linalg.lstsq( kt[itrain][:,itrain]    + r**2*np.eye(len(itrain)), y[itrain], rcond=None)[0]\n",
    "        yp_t = (kt[:,itrain]) @ wt\n",
    "        et.append([r, t, np.sqrt(np.mean((yp_t - y)[itest]**2))])\n",
    "    ert.append(et)\n",
    "ert = np.asarray(ert)"
   ]
  },
  {
   "cell_type": "code",
   "execution_count": null,
   "metadata": {},
   "outputs": [],
   "source": [
    "fig, ax = plt.subplots(1, 1, constrained_layout=True, figsize = (4,3))\n",
    "norm = mpl.colors.LogNorm(vmin=8e-3, vmax=3)\n",
    "levs= [0.01, 0.1,1,10]\n",
    "l2 =  mpl.ticker.LogLocator(10,subs=np.geomspace(1,9.9,20)).tick_values(1e-2,1)\n",
    "l2 = l2[((l2>=0.008) & (l2<3))]\n",
    "cmap='Blues'\n",
    "ZS = ert[:,:,2].T\n",
    "pcm1 = rasterize(ax.contourf(reglist, thetalist, ZS, cmap=cmap, norm=norm,  levels=l2))\n",
    "ax.contour(reglist, thetalist, ZS, colors='k', linewidths=0.5, norm=norm, levels=l2[::5])\n",
    "ax.set_ylabel(r\"$\\theta$\")\n",
    "ax.set_xlabel(\"$\\lambda$\")\n",
    "ax.set_xscale(\"log\")\n",
    "ax.set_yscale(\"log\")\n",
    "#ax.set_xlim(0.695,0.905)\n",
    "#ax.set_ylim(-0.105,0.105)\n",
    "#for a, t in zip(ax, [r\"$k=x\\cdot x'$\",r\"$k=(x\\cdot x')^2)$\",r\"$k=exp(-|x-x'|^2/\\theta)$\"]):\n",
    "#    a.set_title(t,position=(0.97,0.9), \n",
    "#                fontsize=9, bbox=dict(facecolor='white', alpha=0.8, pad=1),pad=0,\n",
    "#               ha='right', va='top')\n",
    "fig.colorbar(pcm1, ax=ax, label='RMSE/eV', \n",
    "             norm=norm, cmap=cmap, location='top', ticks=levs)\n",
    "fig.set_constrained_layout_pads(w_pad=1./72., h_pad=1./72.,\n",
    "        hspace=0., wspace=0.)\n",
    "fig.savefig(\"h2o-exp-theta.svg\")\n",
    "fig.savefig(\"h2o-exp-theta.pdf\")"
   ]
  },
  {
   "cell_type": "markdown",
   "metadata": {},
   "source": [
    "## Alternative representations"
   ]
  },
  {
   "cell_type": "markdown",
   "metadata": {},
   "source": [
    "u,v"
   ]
  },
  {
   "cell_type": "code",
   "execution_count": null,
   "metadata": {},
   "outputs": [],
   "source": [
    "Xuv = np.vstack((gx.T.flatten(), gy.T.flatten()/100)).T"
   ]
  },
  {
   "cell_type": "code",
   "execution_count": null,
   "metadata": {},
   "outputs": [],
   "source": [
    "nrm = (Xuv**2).sum(axis=1)\n",
    "gamma = 1.0/(2*1**2)\n",
    "kuvgauss = np.exp(-(np.add.outer(nrm,nrm) - 2*Xuv@Xuv.T)*gamma)\n",
    "wuvg = np.linalg.lstsq( kuvgauss[itrain][:,itrain]    + 1e-8*np.eye(len(itrain)), y[itrain], rcond=None)[0]\n",
    "ypred_uvg = (kuvgauss[:,itrain]) @ wuvg"
   ]
  },
  {
   "cell_type": "code",
   "execution_count": null,
   "metadata": {},
   "outputs": [],
   "source": [
    "plt.matshow(kuvgauss)"
   ]
  },
  {
   "cell_type": "code",
   "execution_count": null,
   "metadata": {},
   "outputs": [],
   "source": [
    "plt.plot(y,ypred_uvg, 'b.')"
   ]
  },
  {
   "cell_type": "code",
   "execution_count": null,
   "metadata": {},
   "outputs": [],
   "source": [
    "Xpos = []\n",
    "for w in lw: \n",
    "    th = []\n",
    "    for i in range(1,3):\n",
    "        th.append(w.positions[i]-w.positions[0])\n",
    "    #h.sort()\n",
    "    Xpos.append(np.asarray(th).flatten())\n",
    "Xpos = np.asarray(Xpos)"
   ]
  },
  {
   "cell_type": "code",
   "execution_count": null,
   "metadata": {},
   "outputs": [],
   "source": [
    "Xpos[55]"
   ]
  },
  {
   "cell_type": "code",
   "execution_count": null,
   "metadata": {},
   "outputs": [],
   "source": [
    "nrm = (Xpos**2).sum(axis=1);\n",
    "gamma = 1.0/(2*0.2**2)\n",
    "kposgauss = np.exp(-(np.add.outer(nrm,nrm) - 2*Xpos@Xpos.T)*gamma)\n",
    "wposg = np.linalg.lstsq( kposgauss[itrain][:,itrain]    + 1e-12*np.eye(len(itrain)), y[itrain], rcond=None)[0]\n",
    "ypred_posg = (kposgauss[:,itrain]) @ wposg"
   ]
  },
  {
   "cell_type": "code",
   "execution_count": null,
   "metadata": {},
   "outputs": [],
   "source": [
    "plt.matshow(kposgauss)"
   ]
  },
  {
   "cell_type": "code",
   "execution_count": null,
   "metadata": {},
   "outputs": [],
   "source": [
    "print(np.sqrt(np.mean((y-ypred_uvg)**2)))\n",
    "print(np.sqrt(np.mean((y-ypred_posg)**2)))\n",
    "print(np.sqrt(np.mean((y-ypred_z2)**2)))\n",
    "print(np.sqrt(np.mean((y-ypred_gopt)**2)))\n",
    "print(np.sqrt(np.mean((y-ypred_z1)**2)))"
   ]
  },
  {
   "cell_type": "markdown",
   "metadata": {},
   "source": [
    "# SA-GPR"
   ]
  },
  {
   "cell_type": "markdown",
   "metadata": {},
   "source": [
    "brutal calculation of fake dipole (not if they come from pswater!)"
   ]
  },
  {
   "cell_type": "code",
   "execution_count": null,
   "metadata": {},
   "outputs": [],
   "source": [
    "#yl = np.zeros((len(fw),3))\n",
    "#for i,w in enumerate(fw):\n",
    "#    yl[i] = w.positions.T @ np.array([-2,1,1])"
   ]
  },
  {
   "cell_type": "code",
   "execution_count": null,
   "metadata": {},
   "outputs": [],
   "source": [
    "print(yl[0], yl[-11])"
   ]
  },
  {
   "cell_type": "code",
   "execution_count": null,
   "metadata": {},
   "outputs": [],
   "source": [
    "HYPERS = {\n",
    "    'soap_type': 'LambdaSpectrum',\n",
    "    'interaction_cutoff': 2.0,\n",
    "    'max_radial': 8,\n",
    "    'max_angular': 6,\n",
    "    'gaussian_sigma_constant': 0.5,\n",
    "    'gaussian_sigma_type': 'Constant',\n",
    "    'cutoff_smooth_width': 0.5,\n",
    "    'radial_basis': 'GTO',\n",
    "    'inversion_symmetry': True,\n",
    "    'lam' : 1\n",
    "}\n",
    "\n",
    "lsoap = lSOAP(**HYPERS)\n",
    "lX = lsoap.transform(fw).get_features(lsoap)"
   ]
  },
  {
   "cell_type": "code",
   "execution_count": null,
   "metadata": {},
   "outputs": [],
   "source": [
    "plt.plot(lX[0],lX[-11],'b.')"
   ]
  },
  {
   "cell_type": "code",
   "execution_count": null,
   "metadata": {},
   "outputs": [],
   "source": [
    "plt.plot(lX[0,:3000])\n",
    "plt.plot(lX[-11,:3000])"
   ]
  },
  {
   "cell_type": "code",
   "execution_count": null,
   "metadata": {},
   "outputs": [],
   "source": [
    "lX[-11]"
   ]
  },
  {
   "cell_type": "code",
   "execution_count": null,
   "metadata": {},
   "outputs": [],
   "source": [
    "def f2v(vec):\n",
    "    t = ()\n",
    "    for s in vec.shape:\n",
    "        t += (s//3,3)\n",
    "    return vec.reshape(t)\n",
    "\n",
    "def v2f(vec):\n",
    "    t = ()\n",
    "    for s in vec.shape[:-1:2]:        \n",
    "        t += tuple([s*3])\n",
    "    if len(vec.shape)%2==1:\n",
    "        t += tuple([-1])\n",
    "    return vec.reshape(t)"
   ]
  },
  {
   "cell_type": "markdown",
   "metadata": {},
   "source": [
    "reshapes and converts to proper Cartesian (real sph are just y/r, z/r, x/r)"
   ]
  },
  {
   "cell_type": "code",
   "execution_count": null,
   "metadata": {},
   "outputs": [],
   "source": [
    "lX = np.moveaxis(lX.reshape((lX.shape[0],-1,3)),2,1)[:,[2,0,1]]"
   ]
  },
  {
   "cell_type": "code",
   "execution_count": null,
   "metadata": {},
   "outputs": [],
   "source": [
    "lK = f2v(v2f(lX) @ v2f(lX).T)"
   ]
  },
  {
   "cell_type": "code",
   "execution_count": null,
   "metadata": {},
   "outputs": [],
   "source": [
    "lKNM = f2v(v2f(lX[itrain]) @ v2f(lX[isparse]).T)\n",
    "lKMM = f2v(v2f(lX[isparse]) @ v2f(lX[isparse]).T)\n",
    "lKM = f2v(v2f(lX) @ v2f(lX[isparse]).T)"
   ]
  },
  {
   "cell_type": "code",
   "execution_count": null,
   "metadata": {},
   "outputs": [],
   "source": [
    "v2f(lKNM).shape"
   ]
  },
  {
   "cell_type": "code",
   "execution_count": null,
   "metadata": {},
   "outputs": [],
   "source": [
    "wlsparse = f2v( np.linalg.lstsq(v2f(lKNM).T@v2f(lKNM) + 1e-8* v2f(lKMM), \n",
    "                           v2f(lKNM).T@v2f(yl[itrain]), rcond=None)[0] )"
   ]
  },
  {
   "cell_type": "code",
   "execution_count": null,
   "metadata": {},
   "outputs": [],
   "source": [
    "ylpred_sparse = f2v(v2f(lKM) @ v2f(wlsparse) )"
   ]
  },
  {
   "cell_type": "code",
   "execution_count": null,
   "metadata": {},
   "outputs": [],
   "source": [
    "ylpred_sparse  - yl"
   ]
  },
  {
   "cell_type": "code",
   "execution_count": null,
   "metadata": {},
   "outputs": [],
   "source": [
    "def mu_plot(gx, gy, uv, ax=plt, **kwargs):\n",
    "    vlen = np.sqrt((uv**2).sum(axis=1))\n",
    "    vdir = (uv.T/vlen).T\n",
    "    ax.contourf(gx, gy, vlen.reshape(gx.shape).T, **kwargs)\n",
    "    ax.quiver(gx, gy,\n",
    "               vdir[:,0].reshape(gx.shape).T, vdir[:,1].reshape(gx.shape).T,                \n",
    "               angles='uv', pivot='mid') \n",
    "mu_plot(gx, gy, yl, plt, cmap='Blues')"
   ]
  },
  {
   "cell_type": "code",
   "execution_count": null,
   "metadata": {},
   "outputs": [],
   "source": [
    "mu_plot(gx, gy, ylpred_sparse-yl, plt, cmap='Blues')"
   ]
  },
  {
   "cell_type": "code",
   "execution_count": null,
   "metadata": {},
   "outputs": [],
   "source": [
    "ylpred_sparse"
   ]
  },
  {
   "cell_type": "code",
   "execution_count": null,
   "metadata": {},
   "outputs": [],
   "source": [
    "zr = 1e-1\n",
    "fig, ax = plt.subplots(1, 1, constrained_layout=True, figsize = (4,3))\n",
    "norm = mpl.colors.Normalize(vmin=0, vmax=zr)\n",
    "levs= mpl.ticker.MaxNLocator(40, min_n_ticks=10).tick_values(0, zr)\n",
    "cmap='Blues'\n",
    "uv = (yl - ylpred_sparse)\n",
    "vlen = np.sqrt((uv**2).sum(axis=1))\n",
    "pcm1=rasterize(ax.contourf(gx, gy, vlen.reshape(gx.shape).T, cmap=cmap, levels=levs))\n",
    "ax.quiver(gx, gy, ylpred_sparse[:,0].reshape(gx.shape).T, ylpred_sparse[:,1].reshape(gx.shape).T, color='#505050',\n",
    "          angles='uv', pivot='mid') \n",
    "ax.plot(lx[itrain], ly[itrain], 'k*')\n",
    "ax.plot(lx[isparse], ly[isparse], 'rx')\n",
    "ax.set_xlabel(r\"$\\nu'/\\AA$\")\n",
    "ax.set_ylabel(r\"$\\omega/\\mathrm{deg.}$\")\n",
    "ax.set_xlim(-0.52,0.52)\n",
    "ax.set_ylim(55,165)\n",
    "fig.colorbar(pcm1, ax=ax, label=r'$|\\mu-\\mu_{\\mathrm{ref}}|$/Debye', \n",
    "             norm=norm, cmap=cmap, location='top', ticks=np.arange(0,1,0.1))\n",
    "fig.set_constrained_layout_pads(w_pad=1./72., h_pad=1./72.,\n",
    "        hspace=0., wspace=0.)\n",
    "fig.savefig(\"h2o-sagpr-base.svg\")\n",
    "fig.savefig(\"h2o-sagpr-base.pdf\")"
   ]
  },
  {
   "cell_type": "code",
   "execution_count": null,
   "metadata": {},
   "outputs": [],
   "source": [
    "yl[:,1].reshape(gx.shape).T[5,5]"
   ]
  },
  {
   "cell_type": "markdown",
   "metadata": {},
   "source": [
    "## manual calculation...."
   ]
  },
  {
   "cell_type": "code",
   "execution_count": null,
   "metadata": {},
   "outputs": [],
   "source": [
    "from sympy.physics.wigner import clebsch_gordan\n",
    "from sympy import S\n",
    "\n",
    "def get_single(l1, l2, l, m1, m2):\n",
    "    return float(clebsch_gordan(S(l1), S(l2), S(l),\n",
    "                                S(m1), S(m2), S(m1 + m2)))\n",
    "\n",
    "class ClebschGordan:\n",
    "    def __init__(self, l_max):\n",
    "        self.l_max_ = l_max\n",
    "        self.precomputed_ = np.zeros([l_max + 1, l_max + 1, l_max + 1, 2 * l_max + 1, 2 * l_max + 1])\n",
    "\n",
    "        for l1 in range(l_max + 1):\n",
    "            for l2 in range(l_max + 1):\n",
    "                for l in range(l_max + 1):\n",
    "                    for m1 in range(-l_max, l_max + 1):\n",
    "                        for m2 in range(-l_max, l_max + 1):\n",
    "                            now = get_single(l1, l2, l, m1, m2)\n",
    "                            self.precomputed_[l1, l2, l, m1 + l1, m2 + l2] = now\n"
   ]
  },
  {
   "cell_type": "code",
   "execution_count": null,
   "metadata": {},
   "outputs": [],
   "source": [
    "HYPERS = {\n",
    "    'interaction_cutoff': 2.0,\n",
    "    'max_radial': 8,\n",
    "    'max_angular': 6,\n",
    "    'gaussian_sigma_constant': 0.5,\n",
    "    'gaussian_sigma_type': 'Constant',\n",
    "    'cutoff_smooth_width': 0.5,\n",
    "    'radial_basis': 'GTO',\n",
    "}\n",
    "\n",
    "sph = SPH(**HYPERS)\n",
    "\n",
    "nmax = HYPERS['max_radial']\n",
    "lmax = HYPERS['max_angular']\n",
    "nfeat = nmax*(lmax+1)**2\n",
    "cg = ClebschGordan(lmax)\n",
    "SP = sph.transform(fw).get_features(sph)[:,:nfeat]"
   ]
  },
  {
   "cell_type": "markdown",
   "metadata": {},
   "source": [
    "computes lambda-SOAP features (lambda=1)"
   ]
  },
  {
   "cell_type": "code",
   "execution_count": null,
   "metadata": {},
   "outputs": [],
   "source": [
    "SP.shape = (-1, nmax,(lmax+1)**2)"
   ]
  },
  {
   "cell_type": "code",
   "execution_count": null,
   "metadata": {},
   "outputs": [],
   "source": [
    "sqrt_2 = np.sqrt(2)\n",
    "def unpack(covariant, l, real, imag):\n",
    "    real[l] = sqrt_2 * covariant[l]\n",
    "    for m in range(1, l + 1):\n",
    "        real[m + l] = covariant[m + l]\n",
    "        if (m % 2 == 0):\n",
    "            real[-m + l] = covariant[m + l]\n",
    "        else:\n",
    "            real[-m + l] = -covariant[m + l]\n",
    "\n",
    "    imag[l] = 0.0\n",
    "    for m in range(1, l + 1):\n",
    "        imag[m + l] = covariant[-m + l]\n",
    "        if (m % 2 == 0):\n",
    "            imag[-m + l] = -covariant[-m + l]\n",
    "        else:\n",
    "            imag[-m + l] = covariant[-m + l]"
   ]
  },
  {
   "cell_type": "code",
   "execution_count": null,
   "metadata": {},
   "outputs": [],
   "source": [
    "lam = 1\n",
    "lX = np.zeros((SP.shape[0], HYPERS['max_radial'], HYPERS['max_radial'], HYPERS['max_angular']+1, HYPERS['max_angular']+1, 2*lam+1))\n",
    "r1 = np.zeros(2*lmax+1)\n",
    "r2 = r1.copy(); i1 = r1.copy(); i2 = r2.copy();\n",
    "for i in range(lX.shape[0]):\n",
    "    for n1 in range(HYPERS['max_radial']):\n",
    "        for n2 in range(HYPERS['max_radial']):\n",
    "            for l1 in range(HYPERS['max_angular']+1):\n",
    "                unpack(SP[i, n1, l1**2:], l1, r1, i1)\n",
    "                for l2 in range( abs(l1-lam), min(l1+lam,HYPERS['max_angular'])+1):                    \n",
    "                    if (l1+l2+lam)%2 == 1: \n",
    "                        continue\n",
    "                    unpack(SP[i, n2, l2**2:], l2, r2, i2)\n",
    "                    for mu in range(0,lam+1):\n",
    "                        rnx = 0; inx = 0\n",
    "                        for m1 in range(max(mu-l2,-l1),min(mu+l2,l1)+1):\n",
    "                            m2 = mu-m1\n",
    "                            rnx += cg.precomputed_[l1, l2, lam, l1+m1, l2+m2]*(r1[l1+m1]*r2[l2+m2]-i1[l1+m1]*i2[l2+m2])\n",
    "                            inx += cg.precomputed_[l1, l2, lam, l1+m1, l2+m2]*(r1[l1+m1]*i2[l2+m2]+i1[l1+m1]*r2[l2+m2])\n",
    "                        \n",
    "                        if mu>0:\n",
    "                            lX[i, n1, n2, l1, l2, lam+mu] = rnx\n",
    "                            lX[i, n1, n2, l1, l2, lam-mu] = inx\n",
    "                        else:\n",
    "                            lX[i, n1, n2, l1, l2, lam] = rnx/sqrt_2"
   ]
  },
  {
   "cell_type": "code",
   "execution_count": null,
   "metadata": {},
   "outputs": [],
   "source": [
    "lX.shape = (SP.shape[0],-1, 2*lam+1)"
   ]
  },
  {
   "cell_type": "code",
   "execution_count": null,
   "metadata": {},
   "outputs": [],
   "source": [
    "plt.plot(lX[0,::2,2])\n",
    "plt.plot(-lX[-11,::2,2],'b.')"
   ]
  },
  {
   "cell_type": "code",
   "execution_count": null,
   "metadata": {},
   "outputs": [],
   "source": [
    "SP[0,2,:]"
   ]
  },
  {
   "cell_type": "code",
   "execution_count": null,
   "metadata": {},
   "outputs": [],
   "source": [
    "SP[-11,2,:]"
   ]
  },
  {
   "cell_type": "code",
   "execution_count": null,
   "metadata": {},
   "outputs": [],
   "source": []
  }
 ],
 "metadata": {
  "kernelspec": {
   "display_name": "Python 3",
   "language": "python",
   "name": "python3"
  },
  "language_info": {
   "codemirror_mode": {
    "name": "ipython",
    "version": 3
   },
   "file_extension": ".py",
   "mimetype": "text/x-python",
   "name": "python",
   "nbconvert_exporter": "python",
   "pygments_lexer": "ipython3",
   "version": "3.8.5"
  },
  "toc": {
   "base_numbering": 1,
   "nav_menu": {},
   "number_sections": true,
   "sideBar": true,
   "skip_h1_title": false,
   "title_cell": "Table of Contents",
   "title_sidebar": "Contents",
   "toc_cell": false,
   "toc_position": {},
   "toc_section_display": true,
   "toc_window_display": true
  }
 },
 "nbformat": 4,
 "nbformat_minor": 4
}
